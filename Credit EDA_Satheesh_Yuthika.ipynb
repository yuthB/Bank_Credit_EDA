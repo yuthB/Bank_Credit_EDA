{
 "cells": [
  {
   "cell_type": "code",
   "execution_count": null,
   "metadata": {},
   "outputs": [],
   "source": [
    "#Importing the python libraries\n",
    "import numpy as np\n",
    "import pandas as pd\n",
    "\n",
    "import matplotlib.pyplot as plt\n",
    "import seaborn as sns\n",
    "%matplotlib inline\n",
    "\n",
    "# Filtering out the warnings\n",
    "import warnings\n",
    "warnings.filterwarnings('ignore')\n",
    "\n",
    "#Set the max columns and rows\n",
    "pd.set_option('display.max_columns',150)\n",
    "pd.set_option('display.max_rows',150)"
   ]
  },
  {
   "cell_type": "code",
   "execution_count": null,
   "metadata": {},
   "outputs": [],
   "source": [
    "#Import the data set\n",
    "data = pd.read_csv(\"application_data.csv\")\n",
    "data.head()\n"
   ]
  },
  {
   "cell_type": "code",
   "execution_count": null,
   "metadata": {},
   "outputs": [],
   "source": [
    "#Check the structure of dataset\n",
    "print(\"Shape of the dataset: \",data.shape)\n",
    "print(\"Data types of the dataset: \\n\",data.dtypes)"
   ]
  },
  {
   "cell_type": "code",
   "execution_count": null,
   "metadata": {},
   "outputs": [],
   "source": [
    "#Check the percentage of missing values in each column\n",
    "data.isnull().sum()/len(data)*100"
   ]
  },
  {
   "cell_type": "code",
   "execution_count": null,
   "metadata": {
    "scrolled": false
   },
   "outputs": [],
   "source": [
    "#Drop the columns which have more the 50% missing values\n",
    "df = pd.DataFrame((data.isnull().sum()/len(data)*100)>50)\n",
    "df_drop = df[df[0]==True].index\n",
    "data = data.drop(df_drop, axis=1)\n",
    "data"
   ]
  },
  {
   "cell_type": "code",
   "execution_count": null,
   "metadata": {},
   "outputs": [],
   "source": [
    "data[data.CNT_FAM_MEMBERS.isna() == True]"
   ]
  },
  {
   "cell_type": "code",
   "execution_count": null,
   "metadata": {},
   "outputs": [],
   "source": [
    "data.AMT_ANNUITY.describe()"
   ]
  },
  {
   "cell_type": "code",
   "execution_count": null,
   "metadata": {},
   "outputs": [],
   "source": [
    "data.CNT_FAM_MEMBERS.fillna(0, inplace = True)"
   ]
  },
  {
   "cell_type": "markdown",
   "metadata": {},
   "source": [
    "### Replaced nulls in CNT_FAM_MEMBERS with 0 [ Assumption : there may not be any family memebers present. Note : Family Status is Unknown ] "
   ]
  },
  {
   "cell_type": "code",
   "execution_count": null,
   "metadata": {},
   "outputs": [],
   "source": [
    "data[data.AMT_ANNUITY.isna() == True]"
   ]
  },
  {
   "cell_type": "code",
   "execution_count": null,
   "metadata": {},
   "outputs": [],
   "source": [
    "###For the NaNs in AMT_ANNUITY since we have very low count, we replaced it with the mean.\n",
    "\n",
    "data.AMT_ANNUITY.fillna(data.AMT_ANNUITY.mean(), inplace = True)"
   ]
  },
  {
   "cell_type": "markdown",
   "metadata": {},
   "source": [
    "\n"
   ]
  },
  {
   "cell_type": "code",
   "execution_count": null,
   "metadata": {},
   "outputs": [],
   "source": [
    "data[data.DAYS_LAST_PHONE_CHANGE.isna() == True]"
   ]
  },
  {
   "cell_type": "code",
   "execution_count": null,
   "metadata": {},
   "outputs": [],
   "source": [
    "data.DAYS_LAST_PHONE_CHANGE.describe()"
   ]
  },
  {
   "cell_type": "code",
   "execution_count": null,
   "metadata": {},
   "outputs": [],
   "source": [
    "data[data.DAYS_LAST_PHONE_CHANGE == 0]['DAYS_LAST_PHONE_CHANGE'].count()"
   ]
  },
  {
   "cell_type": "code",
   "execution_count": null,
   "metadata": {},
   "outputs": [],
   "source": [
    "data.DAYS_LAST_PHONE_CHANGE.fillna(0, inplace = True)"
   ]
  },
  {
   "cell_type": "markdown",
   "metadata": {},
   "source": [
    "**In DAYS_LAST_PHONE_CHANGE column ====> only one record has null value so replaced it with 0.**"
   ]
  },
  {
   "cell_type": "code",
   "execution_count": null,
   "metadata": {
    "scrolled": true
   },
   "outputs": [],
   "source": [
    "data[data.NAME_TYPE_SUITE.isna() == True].head()"
   ]
  },
  {
   "cell_type": "code",
   "execution_count": null,
   "metadata": {},
   "outputs": [],
   "source": [
    "data.NAME_TYPE_SUITE.unique()"
   ]
  },
  {
   "cell_type": "code",
   "execution_count": null,
   "metadata": {},
   "outputs": [],
   "source": [
    "data.NAME_TYPE_SUITE.fillna('Unaccompanied', inplace = True)"
   ]
  },
  {
   "cell_type": "markdown",
   "metadata": {},
   "source": [
    "### In NAME_TYPE_SUITE, we replaced the NaN's with the mode i.e.,'Unaccompanied'. Also, NaN ( or Unknown ) in this field is similar to Unaccompanied'"
   ]
  },
  {
   "cell_type": "code",
   "execution_count": null,
   "metadata": {},
   "outputs": [],
   "source": [
    "data[data.OCCUPATION_TYPE.isna() == True].head()"
   ]
  },
  {
   "cell_type": "code",
   "execution_count": null,
   "metadata": {},
   "outputs": [],
   "source": [
    "data.OCCUPATION_TYPE.unique()"
   ]
  },
  {
   "cell_type": "code",
   "execution_count": null,
   "metadata": {},
   "outputs": [],
   "source": [
    "data.OCCUPATION_TYPE.fillna('Others', inplace = True)"
   ]
  },
  {
   "cell_type": "markdown",
   "metadata": {},
   "source": [
    "**In OCCUPATION_TYPE, we replaced the NULLS with 'Others'.**"
   ]
  },
  {
   "cell_type": "code",
   "execution_count": null,
   "metadata": {
    "scrolled": true
   },
   "outputs": [],
   "source": [
    "#Check the datatypes of all the columns\n",
    "data.dtypes"
   ]
  },
  {
   "cell_type": "code",
   "execution_count": null,
   "metadata": {},
   "outputs": [],
   "source": [
    "data = data.drop(['FLOORSMAX_AVG', 'YEARS_BEGINEXPLUATATION_MODE', 'FLOORSMAX_MODE', \n",
    "                  'YEARS_BEGINEXPLUATATION_MEDI', 'FLOORSMAX_MEDI', 'TOTALAREA_MODE', 'EMERGENCYSTATE_MODE'], axis=1)\n",
    "\n",
    "data = data.drop(['OBS_30_CNT_SOCIAL_CIRCLE', 'DEF_30_CNT_SOCIAL_CIRCLE', 'OBS_60_CNT_SOCIAL_CIRCLE',\n",
    "                  'DEF_60_CNT_SOCIAL_CIRCLE'], axis = 1)\n",
    "\n",
    "data = data.drop(['FLAG_DOCUMENT_2', 'FLAG_DOCUMENT_3','FLAG_DOCUMENT_4','FLAG_DOCUMENT_5','FLAG_DOCUMENT_6',\n",
    "                  'FLAG_DOCUMENT_7','FLAG_DOCUMENT_8','FLAG_DOCUMENT_9','FLAG_DOCUMENT_10','FLAG_DOCUMENT_11',\n",
    "                  'FLAG_DOCUMENT_12','FLAG_DOCUMENT_13','FLAG_DOCUMENT_14','FLAG_DOCUMENT_15','FLAG_DOCUMENT_16',\n",
    "                  'FLAG_DOCUMENT_17','FLAG_DOCUMENT_18','FLAG_DOCUMENT_19','FLAG_DOCUMENT_20','FLAG_DOCUMENT_21'], axis = 1)\n",
    "\n",
    "data = data.drop(['EXT_SOURCE_2', 'EXT_SOURCE_3'], axis=1)\n",
    "\n",
    "data = data.drop(['AMT_REQ_CREDIT_BUREAU_HOUR', 'AMT_REQ_CREDIT_BUREAU_DAY', 'AMT_REQ_CREDIT_BUREAU_WEEK', \n",
    "                  'AMT_REQ_CREDIT_BUREAU_MON', 'AMT_REQ_CREDIT_BUREAU_QRT', 'AMT_REQ_CREDIT_BUREAU_YEAR'], axis=1)\n",
    "\n",
    "data = data.drop(['DAYS_LAST_PHONE_CHANGE'], axis = 1)\n",
    "\n",
    "data = data.drop(['REGION_POPULATION_RELATIVE', 'FLAG_EMP_PHONE', 'FLAG_WORK_PHONE', 'FLAG_PHONE', \n",
    "                 'WEEKDAY_APPR_PROCESS_START', 'HOUR_APPR_PROCESS_START','LIVE_REGION_NOT_WORK_REGION', \n",
    "                  'REG_CITY_NOT_LIVE_CITY', 'REG_CITY_NOT_WORK_CITY', 'LIVE_CITY_NOT_WORK_CITY'], axis = 1)\n"
   ]
  },
  {
   "cell_type": "code",
   "execution_count": null,
   "metadata": {},
   "outputs": [],
   "source": [
    "data.shape"
   ]
  },
  {
   "cell_type": "code",
   "execution_count": null,
   "metadata": {},
   "outputs": [],
   "source": [
    "#Check AMT_INCOME_TOTAL for outliers\n",
    "sns.boxplot(data.AMT_INCOME_TOTAL)"
   ]
  },
  {
   "cell_type": "code",
   "execution_count": null,
   "metadata": {},
   "outputs": [],
   "source": [
    "data.AMT_INCOME_TOTAL.quantile([0.25,0.5,0.75,0.99,1])"
   ]
  },
  {
   "cell_type": "code",
   "execution_count": null,
   "metadata": {},
   "outputs": [],
   "source": [
    "#Clearly there are outliers in the column and we can remove the values greater than 0.99 IQR\n",
    "data = data[data['AMT_INCOME_TOTAL']<=data.AMT_INCOME_TOTAL.quantile(0.99)]"
   ]
  },
  {
   "cell_type": "code",
   "execution_count": null,
   "metadata": {},
   "outputs": [],
   "source": [
    "data.AMT_INCOME_TOTAL.quantile([0.25,0.5,0.75,0.99,1])"
   ]
  },
  {
   "cell_type": "code",
   "execution_count": null,
   "metadata": {},
   "outputs": [],
   "source": [
    "#Check AMT_ANNUITY for outliers\n",
    "sns.boxplot(data.AMT_ANNUITY)"
   ]
  },
  {
   "cell_type": "code",
   "execution_count": null,
   "metadata": {},
   "outputs": [],
   "source": [
    "data.AMT_ANNUITY.quantile([0.25,0.5,0.75,0.95,0.99,1])"
   ]
  },
  {
   "cell_type": "code",
   "execution_count": null,
   "metadata": {},
   "outputs": [],
   "source": [
    "#Clearly there are outliers in the column and we can remove the values greater than 0.99 IQR\n",
    "data = data[data['AMT_ANNUITY'] <= data.AMT_ANNUITY.quantile(0.99)]"
   ]
  },
  {
   "cell_type": "code",
   "execution_count": null,
   "metadata": {},
   "outputs": [],
   "source": [
    "#Check AMT_GOODS_PRICE for outliers\n",
    "sns.boxplot(data.AMT_GOODS_PRICE)"
   ]
  },
  {
   "cell_type": "code",
   "execution_count": null,
   "metadata": {},
   "outputs": [],
   "source": [
    "data.AMT_GOODS_PRICE.quantile([0.25,0.5,0.75,0.95,0.99,1])"
   ]
  },
  {
   "cell_type": "code",
   "execution_count": null,
   "metadata": {},
   "outputs": [],
   "source": [
    "#Clearly there are outliers in the column and we can remove the values greater than 0.99 IQR\n",
    "data = data[data['AMT_INCOME_TOTAL']<=data.AMT_INCOME_TOTAL.quantile(0.99)]"
   ]
  },
  {
   "cell_type": "code",
   "execution_count": null,
   "metadata": {},
   "outputs": [],
   "source": [
    "data['DAYS_BIRTH'] = abs(data['DAYS_BIRTH'])\n",
    "data['Age'] = data['DAYS_BIRTH']/365"
   ]
  },
  {
   "cell_type": "markdown",
   "metadata": {},
   "source": [
    "**Checking for Data Imbalance**"
   ]
  },
  {
   "cell_type": "code",
   "execution_count": null,
   "metadata": {},
   "outputs": [],
   "source": [
    "#Check for data imbalance\n",
    "data.TARGET.value_counts()/len(data)*100"
   ]
  },
  {
   "cell_type": "code",
   "execution_count": null,
   "metadata": {
    "scrolled": true
   },
   "outputs": [],
   "source": [
    "sns.countplot(data.TARGET)"
   ]
  },
  {
   "cell_type": "code",
   "execution_count": null,
   "metadata": {},
   "outputs": [],
   "source": [
    "# Dividing the credit amount in different bins\n",
    "bins = [0,150000,200000,250000,300000,350000,400000,450000,500000,550000,600000,650000,700000,750000,800000,850000,900000,1000000000]\n",
    "slots = ['0-150000', '150000-200000','200000-250000', '250000-300000', '300000-350000', '350000-400000','400000-450000',\n",
    "        '450000-500000','500000-550000','550000-600000','600000-650000','650000-700000','700000-750000','750000-800000',\n",
    "        '800000-850000','850000-900000','900000 and above']\n",
    "\n",
    "data['AMT_CREDIT_BIN']=pd.cut(data['AMT_CREDIT'],bins=bins,labels=slots)"
   ]
  },
  {
   "cell_type": "code",
   "execution_count": null,
   "metadata": {},
   "outputs": [],
   "source": [
    "# Dividing the income in different bins\n",
    "bins = [0,25000,50000,75000,100000,125000,150000,175000,200000,225000,250000,275000,300000,325000,350000,375000,400000,425000,450000,475000,500000,10000000000]\n",
    "slot = ['0-25000', '25000-50000','50000-75000','75000-100000','100000-125000', '125000-150000', '150000-175000','175000-200000',\n",
    "       '200000-225000','225000-250000','250000-275000','275000-300000','300000-325000','325000-350000','350000-375000',\n",
    "       '375000-400000','400000-425000','425000-450000','450000-475000','475000-500000','500000 and above']\n",
    "\n",
    "data['AMT_INCOME_BIN']=pd.cut(data['AMT_INCOME_TOTAL'],bins,labels=slot)"
   ]
  },
  {
   "cell_type": "markdown",
   "metadata": {},
   "source": [
    "**Division of Dataset based on Target column**"
   ]
  },
  {
   "cell_type": "code",
   "execution_count": null,
   "metadata": {},
   "outputs": [],
   "source": [
    "data0 = data[data['TARGET']==0]\n",
    "data1 = data[data['TARGET']==1]"
   ]
  },
  {
   "cell_type": "markdown",
   "metadata": {},
   "source": [
    "****Univariate Analysis****"
   ]
  },
  {
   "cell_type": "code",
   "execution_count": null,
   "metadata": {
    "scrolled": true
   },
   "outputs": [],
   "source": [
    "#NAME_CONTRACT_TYPE\n",
    "plt.figure(figsize = (15,12))\n",
    "\n",
    "plt.subplot(1,2,1)\n",
    "plt.title('TARGET = 0')\n",
    "plt.pie(data0.NAME_CONTRACT_TYPE.value_counts(), labels = data0.NAME_CONTRACT_TYPE.value_counts().index, startangle = 70,autopct = '%1.1f%%')\n",
    "\n",
    "plt.subplot(1,2,2)\n",
    "plt.title('TARGET = 1')\n",
    "plt.pie(data1.NAME_CONTRACT_TYPE.value_counts(), labels = data1.NAME_CONTRACT_TYPE.value_counts().index,startangle = 70, autopct = '%1.1f%%')\n",
    "\n",
    "plt.show()"
   ]
  },
  {
   "cell_type": "markdown",
   "metadata": {},
   "source": [
    "`Inference` : We see that the ratio of Revolving Loans to Cash Loans is same in both the cases i.e., defaulters and non defaulters"
   ]
  },
  {
   "cell_type": "code",
   "execution_count": null,
   "metadata": {
    "scrolled": true
   },
   "outputs": [],
   "source": [
    "#CODE_GENDER\n",
    "\n",
    "plt.figure(figsize = (10,5))\n",
    "\n",
    "plt.subplot(1,2,1)\n",
    "plt.title('TARGET = 0')\n",
    "sns.countplot(x = data0.CODE_GENDER, data = data0 ,order=[\"M\",\"F\",\"XNA\"])\n",
    "\n",
    "plt.subplot(1,2,2)\n",
    "plt.title('TARGET = 1')\n",
    "sns.countplot(x = data1.CODE_GENDER, data = data1)\n",
    "plt.show()"
   ]
  },
  {
   "cell_type": "code",
   "execution_count": null,
   "metadata": {},
   "outputs": [],
   "source": [
    "data.CODE_GENDER.value_counts()"
   ]
  },
  {
   "cell_type": "markdown",
   "metadata": {},
   "source": [
    "`Inference` : We see that number of females take more loans when compared to number of males.\n",
    "7% of Female applicants are defaulters.\n",
    "10.45% of Male applicants are defaulters."
   ]
  },
  {
   "cell_type": "code",
   "execution_count": null,
   "metadata": {},
   "outputs": [],
   "source": [
    "### Bar plot for Distribution of Applicants by occupation\n",
    "\n",
    "fig = plt.figure(figsize=[15,7])\n",
    "data['OCCUPATION_TYPE'].value_counts().sort_values(ascending=False).plot.bar()\n",
    "plt.title('Bar plot for Distribution of Applicants by Occupation')"
   ]
  },
  {
   "cell_type": "code",
   "execution_count": null,
   "metadata": {},
   "outputs": [],
   "source": [
    "#Univariate analysis of categorical data\n",
    "fig = plt.figure(figsize=[15,7])\n",
    "plt.subplot(1, 2, 1)\n",
    "\n",
    "\n",
    "data0['OCCUPATION_TYPE'].value_counts().sort_values(ascending=False).plot.bar()\n",
    "plt.title('Target 0')\n",
    "\n",
    "plt.subplot(1, 2, 2)\n",
    "data1['OCCUPATION_TYPE'].value_counts().sort_values(ascending=False).plot.bar(color='r')\n",
    "plt.title('Target 1')\n",
    "plt.show()\n",
    "plt.tight_layout(fig)"
   ]
  },
  {
   "cell_type": "markdown",
   "metadata": {},
   "source": [
    "`Inference` : We can see that most of the loans are taken by Labourers followed by Sales Staff, Core Staff etc. and the defaulters to non defaulters also follow the same sequence."
   ]
  },
  {
   "cell_type": "code",
   "execution_count": null,
   "metadata": {
    "scrolled": true
   },
   "outputs": [],
   "source": [
    "#NAME_INCOME_TYPE \n",
    "fig = plt.figure(figsize=[15,7])\n",
    "plt.subplot(1, 2, 1)\n",
    "\n",
    "\n",
    "data0['NAME_INCOME_TYPE'].value_counts().sort_values(ascending=False).plot.bar(color='b')\n",
    "plt.title('Target 0')\n",
    "\n",
    "plt.subplot(1, 2, 2)\n",
    "data1['NAME_INCOME_TYPE'].value_counts().sort_values(ascending=False).plot.bar(color='r')\n",
    "plt.title('Target 1')\n",
    "plt.show()\n",
    "plt.tight_layout(fig)"
   ]
  },
  {
   "cell_type": "markdown",
   "metadata": {},
   "source": [
    "We see that working professionals take most of the loans."
   ]
  },
  {
   "cell_type": "code",
   "execution_count": null,
   "metadata": {
    "scrolled": true
   },
   "outputs": [],
   "source": [
    "#NAME_EDUCATION_TYPE \n",
    "fig = plt.figure(figsize=[10,3])\n",
    "plt.subplot(1, 2, 1)\n",
    "\n",
    "\n",
    "data0['NAME_EDUCATION_TYPE'].value_counts().sort_values(ascending=False).plot.bar(color='b')\n",
    "plt.title('Target 0')\n",
    "plt.xticks(rotation=45)\n",
    "\n",
    "plt.subplot(1, 2, 2)\n",
    "data1['NAME_EDUCATION_TYPE'].value_counts().sort_values(ascending=False).plot.bar(color='r')\n",
    "plt.title('Target 1')\n",
    "plt.xticks(rotation=45)\n",
    "plt.show()\n",
    "plt.tight_layout(fig)"
   ]
  },
  {
   "cell_type": "markdown",
   "metadata": {},
   "source": [
    "`Inference` : We see that clients with Secondary Education take most number of loans."
   ]
  },
  {
   "cell_type": "code",
   "execution_count": null,
   "metadata": {
    "scrolled": true
   },
   "outputs": [],
   "source": [
    "#NAME_HOUSING_TYPE\n",
    "plt.figure(figsize = (12,3.5))\n",
    "\n",
    "plt.subplot(1,2,1)\n",
    "plt.title('TARGET = 0')\n",
    "sns.countplot(x = data0.NAME_HOUSING_TYPE, data=data0 , order=data0.NAME_HOUSING_TYPE.value_counts().index)\n",
    "plt.xticks(rotation=45)\n",
    "\n",
    "plt.subplot(1,2,2)\n",
    "plt.title('TARGET = 1')\n",
    "sns.countplot(x = data1.NAME_HOUSING_TYPE, data=data1 , order=data0.NAME_HOUSING_TYPE.value_counts().index)\n",
    "plt.xticks(rotation=45)\n",
    "\n",
    "plt.show()"
   ]
  },
  {
   "cell_type": "markdown",
   "metadata": {},
   "source": [
    "`Inference` : We also notice that most of the loans are taken by clients who have their own House/Apartments."
   ]
  },
  {
   "cell_type": "code",
   "execution_count": null,
   "metadata": {},
   "outputs": [],
   "source": [
    "#NAME_FAMILY_STATUS\n",
    "plt.figure(figsize = (15,5))\n",
    "\n",
    "plt.subplot(1,2,1)\n",
    "plt.title('TARGET = 0')\n",
    "sns.countplot(x = data0.NAME_FAMILY_STATUS,data=data0,order=data0.NAME_FAMILY_STATUS.value_counts().index)\n",
    "plt.xticks(rotation=45)\n",
    "\n",
    "plt.subplot(1,2,2)\n",
    "plt.title('TARGET = 1')\n",
    "sns.countplot(x = data1.NAME_FAMILY_STATUS, data=data1,order=data0.NAME_FAMILY_STATUS.value_counts().index)\n",
    "plt.xticks(rotation=45)\n",
    "\n",
    "plt.show()"
   ]
  },
  {
   "cell_type": "markdown",
   "metadata": {},
   "source": [
    "`Inference` : We also notice that most of the loans are taken by clients who are married."
   ]
  },
  {
   "cell_type": "markdown",
   "metadata": {},
   "source": [
    "**Univariate - Continuous variables**"
   ]
  },
  {
   "cell_type": "code",
   "execution_count": null,
   "metadata": {},
   "outputs": [],
   "source": [
    "#AMT_ANNUITY\n",
    "plt.figure(figsize = (15,5))\n",
    "\n",
    "plt.subplot(1,2,1)\n",
    "plt.title('Target = 0')\n",
    "sns.distplot(data0.AMT_ANNUITY)\n",
    "\n",
    "plt.subplot(1,2,2)\n",
    "plt.title('Target = 1')\n",
    "sns.distplot(data1.AMT_ANNUITY)\n",
    "plt.show()"
   ]
  },
  {
   "cell_type": "markdown",
   "metadata": {},
   "source": [
    "`Inference` : We notice that the Annuity amount data is more skewed towards left in the case of non-defaulters. Around 70% of people with low loan annuity are bound to pay their loan on time."
   ]
  },
  {
   "cell_type": "code",
   "execution_count": null,
   "metadata": {},
   "outputs": [],
   "source": [
    "#DAYS_BIRTH\n",
    "plt.figure(figsize = (15,5))\n",
    "\n",
    "plt.subplot(1,2,1)\n",
    "plt.title('Target = 0')\n",
    "sns.distplot(data0.DAYS_BIRTH/365)\n",
    "\n",
    "plt.subplot(1,2,2)\n",
    "plt.title('Target = 1')\n",
    "sns.distplot(data1.DAYS_BIRTH/365)\n",
    "plt.show()"
   ]
  },
  {
   "cell_type": "markdown",
   "metadata": {},
   "source": [
    "`Inference` : We notice that the age of applicants in the case of non-defaulters are normally distributed whereas they are left skewed in the case of defaulters. We also notice that most of the defaulters have age around 30 years and as the age increases the number of defaulters decreases."
   ]
  },
  {
   "cell_type": "code",
   "execution_count": null,
   "metadata": {},
   "outputs": [],
   "source": [
    "plt.figure(figsize=(20,5))\n",
    "plt.subplot(1,2,2)\n",
    "sns.countplot(x=data1['AMT_INCOME_BIN'],palette='rocket')\n",
    "plt.title(\"Distribution of Applicant's Income Target 1\")\n",
    "plt.xlabel(\"Income Categories\")\n",
    "plt.ylabel(\"Number of Applicants\")\n",
    "plt.xticks(rotation=45)\n",
    "\n",
    "plt.subplot(1,2,1)\n",
    "sns.countplot(x=data0['AMT_INCOME_BIN'],palette='rocket')\n",
    "plt.title(\"Distribution of Applicant's Income Target 0\")\n",
    "plt.xlabel(\"Income Categories\")\n",
    "plt.ylabel(\"Number of Applicants\")\n",
    "plt.xticks(rotation=45)\n",
    "\n",
    "plt.show()"
   ]
  },
  {
   "cell_type": "markdown",
   "metadata": {},
   "source": [
    "`Inference` : Most of the applicants lie between 50k and 225k income range."
   ]
  },
  {
   "cell_type": "code",
   "execution_count": null,
   "metadata": {},
   "outputs": [],
   "source": [
    "plt.figure(figsize=(15,5))\n",
    "plt.subplot(1,2,2)\n",
    "sns.countplot(x=data1['AMT_CREDIT_BIN'],palette='rocket')\n",
    "plt.title(\"Distribution of Applicant's Credit, Target = 1\")\n",
    "\n",
    "plt.xticks(rotation=45)\n",
    "plt.subplot(1,2,1)\n",
    "sns.countplot(x=data0['AMT_CREDIT_BIN'],palette='rocket')\n",
    "plt.title(\"Distribution of Applicant's Credit, Target = 0\")\n",
    "plt.xticks(rotation=45)\n",
    "plt.show()"
   ]
  },
  {
   "cell_type": "markdown",
   "metadata": {},
   "source": [
    "`Inference` : In both categories, most applicants have taken the credit in the range of 250k to 300k."
   ]
  },
  {
   "cell_type": "markdown",
   "metadata": {},
   "source": [
    "### Bivariate Analysis "
   ]
  },
  {
   "cell_type": "markdown",
   "metadata": {},
   "source": [
    "**Bivariate - Continuous : Continuous**"
   ]
  },
  {
   "cell_type": "code",
   "execution_count": null,
   "metadata": {
    "scrolled": false
   },
   "outputs": [],
   "source": [
    "columnsCorr = ['CODE_GENDER','FLAG_OWN_CAR', 'FLAG_OWN_REALTY', 'CNT_CHILDREN', 'AMT_INCOME_TOTAL', 'AMT_CREDIT', \n",
    "               'AMT_ANNUITY', 'AMT_GOODS_PRICE', 'DAYS_BIRTH', 'DAYS_EMPLOYED', 'DAYS_REGISTRATION', \n",
    "               'DAYS_ID_PUBLISH', 'FLAG_CONT_MOBILE', 'FLAG_EMAIL', 'CNT_FAM_MEMBERS']\n",
    "plt.figure(figsize=(12,12))\n",
    "sns.heatmap(data0[columnsCorr].corr(),annot=True)\n",
    "plt.show()"
   ]
  },
  {
   "cell_type": "code",
   "execution_count": null,
   "metadata": {
    "scrolled": true
   },
   "outputs": [],
   "source": [
    "plt.figure(figsize=(12,12))\n",
    "ax = sns.heatmap(data1[columnsCorr].corr(),annot=True)\n",
    "plt.show()\n",
    "bottom, top = ax.get_ylim()\n",
    "ax.set_ylim(bottom+0.5, top-0.5)"
   ]
  },
  {
   "cell_type": "code",
   "execution_count": null,
   "metadata": {},
   "outputs": [],
   "source": [
    "corr0 = data0[columnsCorr].corr()\n",
    "corr0_df = corr0.where(np.triu(np.ones(corr0.shape), k = 1).astype(np.bool))\n",
    "corr0_df = corr0_df.unstack().reset_index()\n",
    "corr0_df.columns = ['Variable1', 'Variable2', 'Correlation']\n",
    "corr0_df.dropna(subset=['Correlation'], inplace=True)\n",
    "corr0_df.Correlation = abs(corr0_df.Correlation)\n",
    "corr0_df.sort_values('Correlation', ascending=False).head(10)"
   ]
  },
  {
   "cell_type": "code",
   "execution_count": null,
   "metadata": {
    "scrolled": true
   },
   "outputs": [],
   "source": [
    "corr1 = data1[columnsCorr].corr()\n",
    "corr1_df = corr1.where(np.triu(np.ones(corr1.shape), k = 1).astype(np.bool))\n",
    "corr1_df = corr1_df.unstack().reset_index()\n",
    "corr1_df.columns = ['Variable1', 'Variable2', 'Correlation']\n",
    "corr1_df.dropna(subset=['Correlation'], inplace=True)\n",
    "corr1_df.Correlation = abs(corr1_df.Correlation)\n",
    "corr1_df.sort_values('Correlation', ascending=False).head(10)"
   ]
  },
  {
   "cell_type": "markdown",
   "metadata": {},
   "source": [
    "`Inference` : \n",
    "\n",
    "After comparing the two data sets for Target = 1 and Target = 0, we find that the sets of correlated columns are same for both the datasets.\n",
    "\n",
    "1. AMT_GOODS_PRICE has more effect on AMT_CREDIT than AMT_INCOME_TOTAL [ As opposed to our assumptions ]\n",
    "2. CNT_FAM_MEMBERS has high corelation to CNT_CHILDREN"
   ]
  },
  {
   "cell_type": "code",
   "execution_count": null,
   "metadata": {},
   "outputs": [],
   "source": [
    "plt.figure(figsize=[15,7])\n",
    "plt.subplot(1, 2, 1)\n",
    "\n",
    "sns.scatterplot(x='AMT_INCOME_TOTAL', y='AMT_ANNUITY', data=data0, color='b')\n",
    "plt.title('Target 0')\n",
    "\n",
    "plt.subplot(1, 2, 2)\n",
    "sns.scatterplot(x='AMT_INCOME_TOTAL', y='AMT_ANNUITY', data=data1, color='r')\n",
    "plt.title('Target 1')\n",
    "plt.show()\n",
    "plt.tight_layout(fig)"
   ]
  },
  {
   "cell_type": "code",
   "execution_count": null,
   "metadata": {},
   "outputs": [],
   "source": [
    "fig = plt.figure(figsize=[15,7])\n",
    "plt.subplot(1, 2, 1)\n",
    "\n",
    "\n",
    "sns.scatterplot(x='AMT_INCOME_TOTAL', y='AMT_CREDIT', data=data0, color='b')\n",
    "\n",
    "plt.title('Target 0')\n",
    "\n",
    "plt.subplot(1, 2, 2)\n",
    "sns.scatterplot(x='AMT_INCOME_TOTAL', y='AMT_CREDIT', data=data1, color='r')\n",
    "plt.title('Target 1')\n",
    "plt.show()\n",
    "plt.tight_layout(fig)\n"
   ]
  },
  {
   "cell_type": "markdown",
   "metadata": {},
   "source": [
    "`Inference` : In the case of defaulters [Target 1] , Maximum loan given to people with income till 250k is around 130k."
   ]
  },
  {
   "cell_type": "code",
   "execution_count": null,
   "metadata": {},
   "outputs": [],
   "source": [
    "\n",
    "fig = plt.figure(figsize=[15,7])\n",
    "plt.subplot(1, 2, 1)\n",
    "sns.scatterplot(x='AMT_ANNUITY', y='AMT_CREDIT', data=data0, color='b')\n",
    "plt.title('Target 0')\n",
    "\n",
    "plt.subplot(1, 2, 2)\n",
    "sns.scatterplot(x='AMT_ANNUITY', y='AMT_CREDIT', data=data1, color='r')\n",
    "plt.title('Target 1')\n",
    "plt.show()\n",
    "plt.tight_layout(fig)"
   ]
  },
  {
   "cell_type": "markdown",
   "metadata": {},
   "source": [
    "`Inference` : \n",
    "    For the same credit amount - some applicants have lower AMT_ANNUITY,other have higher. \n",
    "    This can be due to two things :\n",
    "        1) Risk Involved\n",
    "        2) Tenure\n",
    "        \n",
    "The upper edge of the cone has the applicants with the best possible AMT_ANNUITY amounts. \n",
    "This also marks the lowest AMT_ANNUITY one could get for a particular AMT_CREDIT.\n",
    "\n",
    "The lower edge of the cone has the applicants who were assumed to be at a greater risk of being a defaulter.\n",
    "This also marks the highest AMT_ANNUITY bank can recieve from the applicants.\n",
    "\n",
    "We notice that the applicants with higher risk are likely to be defaulters."
   ]
  },
  {
   "cell_type": "markdown",
   "metadata": {},
   "source": [
    "**Bivariate: Continuous : Categorical**"
   ]
  },
  {
   "cell_type": "code",
   "execution_count": null,
   "metadata": {},
   "outputs": [],
   "source": [
    "data.columns"
   ]
  },
  {
   "cell_type": "code",
   "execution_count": null,
   "metadata": {},
   "outputs": [],
   "source": [
    "features = ['CODE_GENDER', 'FLAG_OWN_CAR', 'FLAG_OWN_REALTY', 'NAME_EDUCATION_TYPE', 'NAME_FAMILY_STATUS']\n",
    "plt.figure(figsize = (15,20))\n",
    "for i in enumerate(features):\n",
    "    plt.subplot(3,2,i[0]+1)\n",
    "    sns.boxplot(x = i[1], y = data0.AMT_INCOME_TOTAL, data = data0)\n",
    "    plt.xticks(rotation=45)"
   ]
  },
  {
   "cell_type": "markdown",
   "metadata": {},
   "source": [
    "We notice the following from above plots:\n",
    "\n",
    "- Females have comparitively lower income than Males and Others.\n",
    "- People with comparitively higher income own the cars.\n",
    "- There is no significant of income on owning a house or a flat.\n",
    "- Applicants with Higher education and Academic degree have comparitively higher income than others.\n",
    "- Applicants are likely to have better AMT_INCOME_TOTAL as their education level increases.\n",
    "- There is no significant of income on Family Status.\n"
   ]
  },
  {
   "cell_type": "code",
   "execution_count": null,
   "metadata": {},
   "outputs": [],
   "source": [
    "#### We checked and the above inferences apply to target 1 as well. \n",
    "\n",
    "features = ['CODE_GENDER', 'FLAG_OWN_CAR', 'FLAG_OWN_REALTY', 'NAME_EDUCATION_TYPE', 'NAME_FAMILY_STATUS']\n",
    "plt.figure(figsize = (15,20))\n",
    "for i in enumerate(features):\n",
    "    plt.subplot(3,2,i[0]+1)\n",
    "    sns.boxplot(x = i[1], y = data1.AMT_INCOME_TOTAL, data = data1)\n",
    "    plt.xticks(rotation=45)"
   ]
  },
  {
   "cell_type": "code",
   "execution_count": null,
   "metadata": {
    "scrolled": true
   },
   "outputs": [],
   "source": [
    "plt.figure(figsize=(15,5))\n",
    "plt.subplot(1,2,2)\n",
    "sns.boxplot(x=data1['NAME_EDUCATION_TYPE'],y=data1['AMT_CREDIT'],hue=data1['NAME_FAMILY_STATUS'],hue_order=data['NAME_FAMILY_STATUS'].value_counts().index,order=data['NAME_EDUCATION_TYPE'].value_counts().index)\n",
    "plt.title('Target 1 Family Status Distribution vs Credit amount')\n",
    "plt.xlabel('Family Status')\n",
    "plt.xticks(rotation=45)\n",
    "\n",
    "plt.subplot(1,2,1)\n",
    "sns.boxplot(x=data0['NAME_EDUCATION_TYPE'],y=data0['AMT_CREDIT'],hue=data0['NAME_FAMILY_STATUS'],hue_order=data['NAME_FAMILY_STATUS'].value_counts().index,order=data['NAME_EDUCATION_TYPE'].value_counts().index)\n",
    "plt.title('Target 0 Family Status Distribution vs Credit amount')\n",
    "plt.xlabel('Family Status')\n",
    "plt.xticks(rotation=45)\n",
    "\n",
    "plt.show()"
   ]
  },
  {
   "cell_type": "markdown",
   "metadata": {},
   "source": [
    "`Inference` : It is clearly visible that married applicants are more likely to be defaulters than other categories in NAME_FAMILY_STATUS"
   ]
  },
  {
   "cell_type": "markdown",
   "metadata": {},
   "source": [
    "**Bivariate: Categorical : Categorical**"
   ]
  },
  {
   "cell_type": "code",
   "execution_count": null,
   "metadata": {},
   "outputs": [],
   "source": [
    "plt.figure(figsize=(12,7))\n",
    "sns.countplot(x = data0.NAME_FAMILY_STATUS, hue = data0.NAME_HOUSING_TYPE, data=data0)\n"
   ]
  },
  {
   "cell_type": "markdown",
   "metadata": {},
   "source": [
    "`Inference`: Most of the clients own a house/apartment irrespective of their family status. "
   ]
  },
  {
   "cell_type": "code",
   "execution_count": null,
   "metadata": {},
   "outputs": [],
   "source": [
    "plt.figure(figsize=(12,7))\n",
    "sns.countplot(x = data0.FLAG_OWN_REALTY, hue = data0.CODE_GENDER, data=data0)\n"
   ]
  },
  {
   "cell_type": "markdown",
   "metadata": {},
   "source": [
    "`Inference`: Most of the female applicants own a house or apartment when compared to male applicants."
   ]
  },
  {
   "cell_type": "code",
   "execution_count": null,
   "metadata": {},
   "outputs": [],
   "source": [
    "plt.figure(figsize=(12,7))\n",
    "sns.countplot(x = data0.FLAG_OWN_CAR, hue = data0.CODE_GENDER, data=data0)"
   ]
  },
  {
   "cell_type": "markdown",
   "metadata": {},
   "source": [
    "`Inference`: We notice that most of the female clients dont own a car when compared to male clients."
   ]
  },
  {
   "cell_type": "code",
   "execution_count": null,
   "metadata": {},
   "outputs": [],
   "source": [
    "plt.figure(figsize=(12,7))\n",
    "sns.countplot(x = data0.NAME_EDUCATION_TYPE, hue = data0.CODE_GENDER, data=data0)"
   ]
  },
  {
   "cell_type": "markdown",
   "metadata": {},
   "source": [
    "`Inference` : Clearly female applicants lead in the area of education when compared to male clients be it any level of education."
   ]
  },
  {
   "cell_type": "code",
   "execution_count": null,
   "metadata": {},
   "outputs": [],
   "source": [
    "fig = plt.figure(figsize=[15,7])\n",
    "plt.subplot(1, 2, 1)\n",
    "for i in data0['CODE_GENDER'].unique():\n",
    "    subset=data0[data0['CODE_GENDER']==i]\n",
    "    sns.distplot(subset['AMT_INCOME_TOTAL'],hist=False, label=i)\n",
    "plt.title('Target 0')\n",
    "\n",
    "\n",
    "plt.subplot(1, 2, 2)\n",
    "for i in data1['CODE_GENDER'].unique():\n",
    "    subset=data1[data1['CODE_GENDER']==i]\n",
    "    sns.distplot(subset['AMT_INCOME_TOTAL'],hist=False, label=i)\n",
    "    \n",
    "plt.title('Target 1')\n",
    "plt.show()\n",
    "plt.tight_layout(fig)"
   ]
  },
  {
   "cell_type": "markdown",
   "metadata": {},
   "source": [
    "We notice that the clients with income between 50000 & 250000 take most of the loans and most of the defaulters are also from the same range across all genders."
   ]
  },
  {
   "cell_type": "code",
   "execution_count": null,
   "metadata": {},
   "outputs": [],
   "source": [
    "prev_app = pd.read_csv(\"previous_application.csv\")"
   ]
  },
  {
   "cell_type": "code",
   "execution_count": null,
   "metadata": {},
   "outputs": [],
   "source": [
    "appT1previous=data1.merge(prev_app,on='SK_ID_CURR', how='left' )\n",
    "appT0previous=data0.merge(prev_app,on='SK_ID_CURR', how='left' )"
   ]
  },
  {
   "cell_type": "code",
   "execution_count": null,
   "metadata": {},
   "outputs": [],
   "source": [
    "appT0previous.shape"
   ]
  },
  {
   "cell_type": "code",
   "execution_count": null,
   "metadata": {},
   "outputs": [],
   "source": [
    "appT1previous.head()"
   ]
  },
  {
   "cell_type": "code",
   "execution_count": null,
   "metadata": {},
   "outputs": [],
   "source": [
    "#since no null in previous application NAME_CONTRACT_STATUS. We can assume that where ever we encounter na,that means no previous record found\n",
    "appT1previous.NAME_CONTRACT_STATUS=appT1previous.NAME_CONTRACT_STATUS.fillna('No History')\n",
    "appT0previous.NAME_CONTRACT_STATUS=appT0previous.NAME_CONTRACT_STATUS.fillna('No History')"
   ]
  },
  {
   "cell_type": "code",
   "execution_count": null,
   "metadata": {},
   "outputs": [],
   "source": [
    "#Current customers, previous loan status \n",
    "fig=plt.figure(figsize=(12,7))\n",
    "plt.subplot(1,2,2)\n",
    "bbc=sns.countplot(x='NAME_CONTRACT_STATUS', data=appT1previous)\n",
    "bbc.set_xticklabels(bbc.get_xticklabels(), rotation=45, horizontalalignment='right')\n",
    "plt.title('Target 1')\n",
    "\n",
    "plt.subplot(1,2,1)\n",
    "ddc=sns.countplot(x='NAME_CONTRACT_STATUS', data=appT0previous)\n",
    "ddc.set_xticklabels(ddc.get_xticklabels(), rotation=45, horizontalalignment='right')\n",
    "\n",
    "plt.title('Target 0')\n",
    "plt.show()\n",
    "\n"
   ]
  },
  {
   "cell_type": "code",
   "execution_count": null,
   "metadata": {},
   "outputs": [],
   "source": [
    "#previous status and median credit\n",
    "\n",
    "fig=plt.figure(figsize=(13,7))\n",
    "\n",
    "plt.subplot(1,2,1)\n",
    "bbc=sns.barplot(x='NAME_CONTRACT_STATUS',y='AMT_CREDIT_y', estimator=np.median,hue='TARGET', data=appT1previous)\n",
    "bbc.set_xticklabels(bbc.get_xticklabels(), rotation=45, horizontalalignment='right')\n",
    "plt.title('Target 1')\n",
    "\n",
    "plt.subplot(1,2,2)\n",
    "ddc=sns.barplot(x='NAME_CONTRACT_STATUS',y='AMT_CREDIT_y', estimator=np.median, hue='TARGET', data=appT0previous)\n",
    "ddc.set_xticklabels(ddc.get_xticklabels(), rotation=45, horizontalalignment='right')\n",
    "\n",
    "plt.title('Target 0')\n",
    "plt.show()\n"
   ]
  },
  {
   "cell_type": "code",
   "execution_count": null,
   "metadata": {},
   "outputs": [],
   "source": [
    "#checking \n",
    "appT1previous.groupby('NAME_CONTRACT_STATUS').aggregate(np.median)['AMT_CREDIT_y']"
   ]
  },
  {
   "cell_type": "code",
   "execution_count": null,
   "metadata": {},
   "outputs": [],
   "source": [
    "#checking the cause of rejection in previous applications\n",
    "#\n",
    "fig=plt.figure(figsize=(6,5))\n",
    "\n",
    "plt.subplot(1,2,1)\n",
    "subset=appT1previous[appT1previous['NAME_CONTRACT_STATUS']=='Refused']\n",
    "appT1previous.CODE_REJECT_REASON.value_counts(normalize=True).plot.bar(color='blue')\n",
    "plt.title('Target 1')\n",
    "\n",
    "plt.subplot(1,2,2)\n",
    "subset=appT0previous[appT0previous['NAME_CONTRACT_STATUS']=='Refused']\n",
    "\n",
    "appT0previous.CODE_REJECT_REASON.value_counts(normalize=True).plot.bar(color='red')\n",
    "plt.title('Target 0')\n"
   ]
  },
  {
   "cell_type": "code",
   "execution_count": null,
   "metadata": {},
   "outputs": [],
   "source": [
    "#bivariate analysis - checking the amount asked while filling the application vs the final credit amount \n",
    "\n",
    "plt.figure(figsize=(12,7))\n",
    "plt.subplot(1,2,2)\n",
    "bbc=sns.scatterplot(x='AMT_APPLICATION',y='AMT_CREDIT_y', data=appT1previous)\n",
    "bbc.set_xticklabels(bbc.get_xticklabels(), rotation=45, horizontalalignment='right')\n",
    "plt.title('Target 1')\n",
    "\n",
    "plt.subplot(1,2,1)\n",
    "ddc=sns.scatterplot(x='AMT_APPLICATION',y='AMT_CREDIT_y', data=appT0previous)\n",
    "ddc.set_xticklabels(ddc.get_xticklabels(), rotation=45, horizontalalignment='right')\n",
    "plt.title('Target 0')\n",
    "plt.show()"
   ]
  },
  {
   "cell_type": "code",
   "execution_count": null,
   "metadata": {},
   "outputs": [],
   "source": [
    "#Shift in contract type (previous to current)\n",
    "\n",
    "\n",
    "fig=plt.figure(figsize=(12,7))\n",
    "\n",
    "plt.subplot(1,2,2)\n",
    "bbc=sns.countplot(x='NAME_CONTRACT_TYPE_x',hue='NAME_CONTRACT_TYPE_y', data=appT1previous)\n",
    "bbc.set_xticklabels(bbc.get_xticklabels(), rotation=45, horizontalalignment='right')\n",
    "plt.title('Target 1')\n",
    "\n",
    "plt.subplot(1,2,1)\n",
    "ddc=sns.countplot(x='NAME_CONTRACT_TYPE_x',hue='NAME_CONTRACT_TYPE_y', data=appT0previous)\n",
    "ddc.set_xticklabels(ddc.get_xticklabels(), rotation=45, horizontalalignment='right')\n",
    "\n",
    "plt.title('Target 0')\n",
    "plt.show()"
   ]
  }
 ],
 "metadata": {
  "kernelspec": {
   "display_name": "Python 3",
   "language": "python",
   "name": "python3"
  },
  "language_info": {
   "codemirror_mode": {
    "name": "ipython",
    "version": 3
   },
   "file_extension": ".py",
   "mimetype": "text/x-python",
   "name": "python",
   "nbconvert_exporter": "python",
   "pygments_lexer": "ipython3",
   "version": "3.8.3"
  }
 },
 "nbformat": 4,
 "nbformat_minor": 4
}
